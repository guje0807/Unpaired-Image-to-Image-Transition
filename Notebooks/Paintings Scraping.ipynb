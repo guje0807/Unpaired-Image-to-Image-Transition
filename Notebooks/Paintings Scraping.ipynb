{
 "cells": [
  {
   "cell_type": "code",
   "execution_count": 77,
   "id": "ef5abee2",
   "metadata": {},
   "outputs": [],
   "source": [
    "import requests as req\n",
    "from bs4 import BeautifulSoup\n",
    "import wget as w"
   ]
  },
  {
   "cell_type": "code",
   "execution_count": 47,
   "id": "7074de68",
   "metadata": {},
   "outputs": [],
   "source": [
    "def wikiart_urls_list(url,tag:str):\n",
    "    r = req.get(url)\n",
    "    url_data = r.text\n",
    "    soup = BeautifulSoup(url_data, 'html.parser')\n",
    "    #print(soup.prettify())\n",
    "    painters_list = []\n",
    "    table = soup.find_all('a')\n",
    "    for i in table:\n",
    "        if i.has_attr('href'):\n",
    "            if tag in str(i['href']):\n",
    "                #print(i['href'])\n",
    "                painters_list.append(str(i['href']))\n",
    "    return painters_list"
   ]
  },
  {
   "cell_type": "code",
   "execution_count": 48,
   "id": "81c86179",
   "metadata": {},
   "outputs": [],
   "source": [
    "varma_list = wikiart_urls_list('https://www.wikiart.org/en/raja-ravi-varma/all-works/text-list', '/en/raja-ravi-varma/')"
   ]
  },
  {
   "cell_type": "code",
   "execution_count": 49,
   "id": "5ef496da",
   "metadata": {},
   "outputs": [],
   "source": [
    "carr_list = wikiart_urls_list('https://www.wikiart.org/en/emily-carr/all-works/text-list','/en/emily-carr')"
   ]
  },
  {
   "cell_type": "code",
   "execution_count": 50,
   "id": "37d5a27f",
   "metadata": {},
   "outputs": [
    {
     "data": {
      "text/plain": [
       "51"
      ]
     },
     "execution_count": 50,
     "metadata": {},
     "output_type": "execute_result"
    }
   ],
   "source": [
    "len(varma_list)"
   ]
  },
  {
   "cell_type": "code",
   "execution_count": 51,
   "id": "63a77378",
   "metadata": {},
   "outputs": [
    {
     "data": {
      "text/plain": [
       "47"
      ]
     },
     "execution_count": 51,
     "metadata": {},
     "output_type": "execute_result"
    }
   ],
   "source": [
    "len(carr_list)"
   ]
  },
  {
   "cell_type": "code",
   "execution_count": 99,
   "id": "92e0b095",
   "metadata": {},
   "outputs": [],
   "source": [
    "def url_to_jpg(url_list):\n",
    "    agent = {\"User-Agent\":'Mozilla/5.0 (Windows NT 6.3; WOW64) AppleWebKit/537.36 (KHTML, like Gecko) Chrome/59.0.3071.115 Safari/537.36'}\n",
    "    for i in url_list:\n",
    "        url = \"https://www.wikiart.org/\" + i \n",
    "        r = req.get(url)\n",
    "        url_data = r.text\n",
    "        soup = BeautifulSoup(url_data, 'html.parser')\n",
    "        #print(soup.prettify())\n",
    "        for j in soup.find_all('meta',attrs={'name':'twitter:image:src'}):\n",
    "            image_url = j['content']\n",
    "            filename = w.download(image_url)"
   ]
  },
  {
   "cell_type": "code",
   "execution_count": 100,
   "id": "0cf82747",
   "metadata": {},
   "outputs": [
    {
     "name": "stdout",
     "output_type": "stream",
     "text": [
      "100% [..............................................................................] 48629 / 48629"
     ]
    }
   ],
   "source": [
    "url_to_jpg(varma_list)"
   ]
  },
  {
   "cell_type": "code",
   "execution_count": 101,
   "id": "b9d7b2f1",
   "metadata": {},
   "outputs": [
    {
     "name": "stdout",
     "output_type": "stream",
     "text": [
      "100% [..............................................................................] 57611 / 57611"
     ]
    }
   ],
   "source": [
    "url_to_jpg(carr_list)"
   ]
  },
  {
   "cell_type": "code",
   "execution_count": 80,
   "id": "2d6cc08d",
   "metadata": {},
   "outputs": [
    {
     "data": {
      "text/plain": [
       "['/en/raja-ravi-varma/lady-with-swarbat-1874',\n",
       " '/en/raja-ravi-varma/arjuna-and-subhadra-1890',\n",
       " '/en/raja-ravi-varma/santhanu-and-matsyagandhi-1890',\n",
       " '/en/raja-ravi-varma/radha-and-madhav-1890',\n",
       " '/en/raja-ravi-varma/there-comes-papa-1893',\n",
       " '/en/raja-ravi-varma/gypsies-1893',\n",
       " '/en/raja-ravi-varma/jatayu-vadham-1895',\n",
       " '/en/raja-ravi-varma/painting-of-the-goddess-saraswati-1896',\n",
       " '/en/raja-ravi-varma/shakuntala-1898',\n",
       " '/en/raja-ravi-varma/hamsa-damayanti-1899',\n",
       " '/en/raja-ravi-varma/mohini-and-rugmangada-to-kill-his-own-son-raja-ravi-varma-1899',\n",
       " '/en/raja-ravi-varma/menaka-the-nymph-tempting-the-yogi-1900',\n",
       " '/en/raja-ravi-varma/the-milkmaid-1904',\n",
       " '/en/raja-ravi-varma/victory-of-meghanada-1905',\n",
       " '/en/raja-ravi-varma/lakshmi-the-goddess-of-wealth-1906',\n",
       " '/en/raja-ravi-varma/dattatreya-1910',\n",
       " '/en/raja-ravi-varma/ganga-avataran-or-descent-of-ganga-1910',\n",
       " '/en/raja-ravi-varma/maharaja-fateh-singh',\n",
       " '/en/raja-ravi-varma/kadambari-0',\n",
       " '/en/raja-ravi-varma/kadambari',\n",
       " '/en/raja-ravi-varma/fresh-from-bath',\n",
       " '/en/raja-ravi-varma/dreaming-shakuntala',\n",
       " '/en/raja-ravi-varma/shakuntala-looking-back-to-glimpse-dushyanta',\n",
       " '/en/raja-ravi-varma/sri-krishna-as-a-young-child-with-foster-mother-yasoda',\n",
       " '/en/raja-ravi-varma/sri-rama-vanquishing-the-sea',\n",
       " '/en/raja-ravi-varma/sri-shanmukaha-subramania-swami',\n",
       " '/en/raja-ravi-varma/galaxy-of-musicians',\n",
       " '/en/raja-ravi-varma/lady-giving-alms',\n",
       " '/en/raja-ravi-varma/simhika-and-sairandri',\n",
       " '/en/raja-ravi-varma/the-maharashtrian-lady',\n",
       " '/en/raja-ravi-varma/in-contemplation',\n",
       " '/en/raja-ravi-varma/malabar-lady',\n",
       " '/en/raja-ravi-varma/woman-holding-a-fruit',\n",
       " '/en/raja-ravi-varma/woman-with-veena',\n",
       " '/en/raja-ravi-varma/ladies-in-the-moonlight',\n",
       " '/en/raja-ravi-varma/maharana-prathap-singh',\n",
       " '/en/raja-ravi-varma/mrs-ramanadha-rao',\n",
       " '/en/raja-ravi-varma/rajaputra-soldier',\n",
       " '/en/raja-ravi-varma/sir-t-madhava-rao',\n",
       " '/en/raja-ravi-varma/the-suckling-child',\n",
       " '/en/raja-ravi-varma/dhruv-narayan',\n",
       " '/en/raja-ravi-varma/hansa-damayanthi',\n",
       " '/en/raja-ravi-varma/harischandra-in-distress-having-lost-his-kingdom-and-all-the-wealth-parting-with-his-only-son',\n",
       " '/en/raja-ravi-varma/swan-messenger',\n",
       " '/en/raja-ravi-varma/urvashi-and-pururavas',\n",
       " '/en/raja-ravi-varma/bheeshma-oath',\n",
       " '/en/raja-ravi-varma/krishna-meets-parents',\n",
       " '/en/raja-ravi-varma/pleasing',\n",
       " '/en/raja-ravi-varma/shakuntala',\n",
       " '/en/raja-ravi-varma/sri-rama-breaking-the-bow',\n",
       " '/en/raja-ravi-varma/yasoda-adorning-krishna']"
      ]
     },
     "execution_count": 80,
     "metadata": {},
     "output_type": "execute_result"
    }
   ],
   "source": [
    "varma_list"
   ]
  },
  {
   "cell_type": "code",
   "execution_count": null,
   "id": "87ec8afe",
   "metadata": {},
   "outputs": [],
   "source": []
  }
 ],
 "metadata": {
  "kernelspec": {
   "display_name": "Python 3 (ipykernel)",
   "language": "python",
   "name": "python3"
  },
  "language_info": {
   "codemirror_mode": {
    "name": "ipython",
    "version": 3
   },
   "file_extension": ".py",
   "mimetype": "text/x-python",
   "name": "python",
   "nbconvert_exporter": "python",
   "pygments_lexer": "ipython3",
   "version": "3.10.8"
  }
 },
 "nbformat": 4,
 "nbformat_minor": 5
}
